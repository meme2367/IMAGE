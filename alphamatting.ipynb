{
 "cells": [
  {
   "cell_type": "code",
   "execution_count": 2,
   "metadata": {},
   "outputs": [],
   "source": [
    "#import the required library\n",
    "import numpy as np\n",
    "import cv2\n",
    "import matplotlib.pyplot as plt\n",
    "#http://elgoacademy.org/alpha-matting-using-opencv/\n",
    "\n",
    "#In this post we are going to discuss alpha matting.  Alpha matting is the process of overlaying a foreground image with transparency over a background image. The transparency is often the fourth channel of an image ( e.g. in a transparent PNG), but it can also be a separate image. This transparency mask is often called the alpha mask or the alpha matte.\n",
    "\n",
    "#In the below figure, the foreground image is shown on the left, the background image and the gray scale alpha mask is shown on the middle and the composite image obtained by blending the foreground image and the background image using an alpha mask is shown on the right.\n"
   ]
  },
  {
   "cell_type": "code",
   "execution_count": 4,
   "metadata": {},
   "outputs": [],
   "source": [
    "# Read the image\n",
    "foreground = cv2.imread('foreground.png')  #Foreground Image\n",
    "background = cv2.imread('background.jpg')  #Background Image\n",
    "alpha = cv2.imread('alpha.png')  #alpha mask\n"
   ]
  },
  {
   "cell_type": "code",
   "execution_count": 5,
   "metadata": {},
   "outputs": [
    {
     "name": "stdout",
     "output_type": "stream",
     "text": [
      "Foreground Shape:  (443, 625, 3)\n",
      "Background Shape:  (438, 535, 3)\n",
      "Alpha Mask Shape (443, 630, 3)\n"
     ]
    }
   ],
   "source": [
    " \n",
    "#print the shape of these images\n",
    "print('Foreground Shape: ',foreground.shape)\n",
    "print('Background Shape: ',background.shape)\n",
    "print('Alpha Mask Shape', alpha.shape)\n"
   ]
  },
  {
   "cell_type": "code",
   "execution_count": 5,
   "metadata": {},
   "outputs": [],
   "source": [
    "fg = cv2.resize(foreground,(800,563))\n",
    "bg  = cv2.resize(background,(800,563))\n",
    "alpha = cv2.resize(alpha, (800,563))\n",
    "\n",
    "# Convert these images two floating point image.\n",
    "fg = fg.astype(float)\n",
    "bg = bg.astype(float)\n",
    "\n",
    "# Normalize the alpha mask to keep intensity between 0 and 1\n",
    "alpha = alpha.astype(float)/255\n"
   ]
  },
  {
   "cell_type": "code",
   "execution_count": 14,
   "metadata": {},
   "outputs": [
    {
     "name": "stdout",
     "output_type": "stream",
     "text": [
      "class:  ndarray\n",
      "shape:  (563, 800, 3)\n",
      "strides:  (19200, 24, 8)\n",
      "itemsize:  8\n",
      "aligned:  True\n",
      "contiguous:  True\n",
      "fortran:  False\n",
      "data pointer: 0x2b30e20e040\n",
      "byteorder:  little\n",
      "byteswap:  False\n",
      "type: float64\n"
     ]
    }
   ],
   "source": [
    "np.info(alpha)"
   ]
  },
  {
   "cell_type": "code",
   "execution_count": 15,
   "metadata": {},
   "outputs": [
    {
     "name": "stdout",
     "output_type": "stream",
     "text": [
      "class:  ndarray\n",
      "shape:  (443, 625, 3)\n",
      "strides:  (15000, 24, 8)\n",
      "itemsize:  8\n",
      "aligned:  True\n",
      "contiguous:  True\n",
      "fortran:  False\n",
      "data pointer: 0x2b30c6dc040\n",
      "byteorder:  little\n",
      "byteswap:  False\n",
      "type: float64\n"
     ]
    }
   ],
   "source": [
    "np.info(fg)"
   ]
  },
  {
   "cell_type": "code",
   "execution_count": 17,
   "metadata": {},
   "outputs": [
    {
     "name": "stdout",
     "output_type": "stream",
     "text": [
      "class:  ndarray\n",
      "shape:  (563, 800, 3)\n",
      "strides:  (19200, 24, 8)\n",
      "itemsize:  8\n",
      "aligned:  True\n",
      "contiguous:  True\n",
      "fortran:  False\n",
      "data pointer: 0x2b30ec66040\n",
      "byteorder:  little\n",
      "byteswap:  False\n",
      "type: float64\n"
     ]
    }
   ],
   "source": [
    "np.info(fg)"
   ]
  },
  {
   "cell_type": "code",
   "execution_count": 19,
   "metadata": {},
   "outputs": [
    {
     "data": {
      "text/plain": [
       "array([[[ 60.,  85.,  68.],\n",
       "        [ 63.,  86.,  70.],\n",
       "        [ 64.,  87.,  72.],\n",
       "        ...,\n",
       "        [ 97., 106.,  73.],\n",
       "        [101., 108.,  74.],\n",
       "        [105., 110.,  76.]],\n",
       "\n",
       "       [[ 63.,  88.,  70.],\n",
       "        [ 64.,  89.,  72.],\n",
       "        [ 65.,  89.,  72.],\n",
       "        ...,\n",
       "        [ 99., 108.,  75.],\n",
       "        [103., 109.,  76.],\n",
       "        [106., 111.,  77.]],\n",
       "\n",
       "       [[ 63.,  88.,  70.],\n",
       "        [ 63.,  89.,  71.],\n",
       "        [ 65.,  90.,  72.],\n",
       "        ...,\n",
       "        [101., 109.,  76.],\n",
       "        [103., 111.,  76.],\n",
       "        [105., 112.,  77.]],\n",
       "\n",
       "       ...,\n",
       "\n",
       "       [[ 72., 104.,  50.],\n",
       "        [ 69., 104.,  50.],\n",
       "        [ 66., 103.,  49.],\n",
       "        ...,\n",
       "        [ 50.,  62.,  42.],\n",
       "        [ 53.,  64.,  42.],\n",
       "        [ 55.,  65.,  42.]],\n",
       "\n",
       "       [[ 69., 103.,  48.],\n",
       "        [ 66., 101.,  47.],\n",
       "        [ 61.,  99.,  46.],\n",
       "        ...,\n",
       "        [ 52.,  63.,  43.],\n",
       "        [ 55.,  65.,  43.],\n",
       "        [ 57.,  66.,  42.]],\n",
       "\n",
       "       [[ 68., 102.,  47.],\n",
       "        [ 64., 100.,  46.],\n",
       "        [ 59.,  97.,  44.],\n",
       "        ...,\n",
       "        [ 54.,  64.,  43.],\n",
       "        [ 56.,  66.,  43.],\n",
       "        [ 59.,  68.,  43.]]])"
      ]
     },
     "execution_count": 19,
     "metadata": {},
     "output_type": "execute_result"
    }
   ],
   "source": [
    "fg"
   ]
  },
  {
   "cell_type": "code",
   "execution_count": 16,
   "metadata": {},
   "outputs": [
    {
     "data": {
      "text/plain": [
       "True"
      ]
     },
     "execution_count": 16,
     "metadata": {},
     "output_type": "execute_result"
    }
   ],
   "source": [
    "\n",
    "#Now we use the equation I=αF+(1–α)B  to calculate the alpha blended images and display \n",
    "# Multiply the foreground with the alpha matte\n",
    "foreground = cv2.multiply(alpha, fg)\n",
    "  \n",
    "\n",
    "# Multiply the background with ( 1 - alpha )\n",
    "background = cv2.multiply(1.0 - alpha, bg)\n",
    "  \n",
    "# Add the masked foreground and background.\n",
    "outImage = cv2.add(foreground, background)\n",
    "  \n",
    "# Display image\n",
    "img = outImage/255\n",
    "cv2.imshow(\"fg\", img)\n",
    "cv2.waitKey(0)\n",
    "cv2.destroyAllWindows()"
   ]
  },
  {
   "cell_type": "code",
   "execution_count": null,
   "metadata": {},
   "outputs": [],
   "source": []
  },
  {
   "cell_type": "code",
   "execution_count": null,
   "metadata": {},
   "outputs": [],
   "source": []
  },
  {
   "cell_type": "code",
   "execution_count": null,
   "metadata": {},
   "outputs": [],
   "source": []
  },
  {
   "cell_type": "code",
   "execution_count": null,
   "metadata": {},
   "outputs": [],
   "source": []
  }
 ],
 "metadata": {
  "kernelspec": {
   "display_name": "Python 3",
   "language": "python",
   "name": "python3"
  },
  "language_info": {
   "codemirror_mode": {
    "name": "ipython",
    "version": 3
   },
   "file_extension": ".py",
   "mimetype": "text/x-python",
   "name": "python",
   "nbconvert_exporter": "python",
   "pygments_lexer": "ipython3",
   "version": "3.5.5"
  }
 },
 "nbformat": 4,
 "nbformat_minor": 2
}
